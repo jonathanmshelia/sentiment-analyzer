{
 "cells": [
  {
   "cell_type": "code",
   "execution_count": 22,
   "metadata": {},
   "outputs": [],
   "source": [
    "\n",
    "import datetime\n",
    "import os\n",
    "import pandas as pd\n",
    "from typing import List\n",
    "from scraper.Comment import Comment\n",
    "from scraper.JsonLoader import JsonLoader\n",
    "from scraper.RedditJsonLoader import RedditJsonLoader\n",
    "from scraper.RawCommentParser import RawCommentParser\n",
    "from scraper.RedditCommentLoader import RedditCommentLoader\n",
    "from scraper.RedditCommentSerializer import RedditCommentSerializer"
   ]
  },
  {
   "cell_type": "code",
   "execution_count": 23,
   "metadata": {},
   "outputs": [],
   "source": [
    "def print_comments(comments, level=0):\n",
    "    for comment in comments:\n",
    "        print('  ' * level + comment.body)\n",
    "        print_comments(comment.children, level + 1)"
   ]
  },
  {
   "cell_type": "code",
   "execution_count": 24,
   "metadata": {},
   "outputs": [],
   "source": [
    "def validate_mode_and_path(mode, local_data_path):\n",
    "    \"\"\"\n",
    "    Validate the mode and local data path to ensure they are compatible.\n",
    "    \n",
    "    Args:\n",
    "        mode (str): The mode to use ('RAW_JSON', 'JSON', 'URL', 'CSV')\n",
    "        local_data_path (str): Path to the local data file\n",
    "        \n",
    "    Returns:\n",
    "        bool: True if valid, False otherwise\n",
    "    \"\"\"\n",
    "    # Define supported modes and file extensions\n",
    "    supported_modes = ['RAW_JSON', 'JSON', 'URL', 'CSV']\n",
    "    file_extensions = {\n",
    "        'json': ['JSON', 'RAW_JSON'],\n",
    "        'csv': ['CSV']\n",
    "    }\n",
    "\n",
    "    # Validate the mode\n",
    "    if mode not in supported_modes:\n",
    "        print(f'Invalid mode: Select one of {\", \".join(supported_modes)}')\n",
    "        return False\n",
    "\n",
    "    # For non-URL modes, validate that the file exists and has matching extension\n",
    "    if mode != 'URL':\n",
    "        if not os.path.exists(local_data_path):\n",
    "            print('Local data file not found. LOCAL_DATA_PATH must be set for any mode other than URL')\n",
    "            return False\n",
    "        \n",
    "        # Check if file extension matches the mode\n",
    "        file_ext = os.path.splitext(local_data_path)[1].lower().replace('.', '')\n",
    "        valid_modes = file_extensions.get(file_ext, [])\n",
    "        \n",
    "        if mode not in valid_modes:\n",
    "            print(f'Mode {mode} is not compatible with file extension .{file_ext}')\n",
    "            print(f'For .{file_ext} files, use one of: {\", \".join(valid_modes)}')\n",
    "            return False\n",
    "            \n",
    "    return True"
   ]
  },
  {
   "cell_type": "code",
   "execution_count": 25,
   "metadata": {},
   "outputs": [
    {
     "name": "stdout",
     "output_type": "stream",
     "text": [
      "T1 for close to 40 years. I’m on a Tandem TSlim pump with a Dexcom G6. I have been on Mounjaro for close to 18 months. My daily insulin usage almost immediately went from 110-120 units a day to 40-50. My A1C went from a 7.6 to a 5.6. It was a 6.0 4 months after starting Mounjaro. I’ve also lost 85-90 pounds. These drugs are a game changer for T1 management. I haven’t had any serious side effects and I’ve never increased my dosage past 7.5.\n",
      "  Very similar results for me, too\n",
      "  My experience is almost identical to this as well. The only thing that has ever improved my control/health as much as GLP-1 drugs is when I switched to a CGM that integrated with my pump (also on tandem + dexcom combo).\n",
      "  Pretty much my results except my A1c is lower and I only lost sixty pounds. I think everyone should take mounjaro if possible. It’s a miracle drug.\n",
      "  T1 40+ years. Went from TTD around 45-55 units a day to 25-40. Lost 45 pounds. Ozempic also reduces inflammation so it takes away that round face that many women with T1 have, and helps with trigger finger and arthritis\n",
      "  no you notice more lows? or have you been able to flatline?  my a1c is pretty low right now but my endo and i both know its because i have too many lows.\n",
      "    Yes I’ve experienced more lows but that is expected since I’m maintaining tighter control and my blood sugar isn’t going high that often. Additionally, I’m more active now than I have been in years.\n",
      "  Does your insurance cover it? Is your co-pay astronomical?\n",
      "    $25 copay. They cover it but my doctor had to complete a prior authorization.\n"
     ]
    }
   ],
   "source": [
    "# Get mode and local data path\n",
    "mode = os.getenv('MODE', 'URL')\n",
    "output_path = os.getenv('BASE_PATH', 'output')\n",
    "local_data_path = None\n",
    "if mode == 'URL':\n",
    "    local_data_path = None  # Not needed for URL mode\n",
    "elif mode == 'CSV':\n",
    "    local_data_path = os.getenv('LOCAL_DATA_PATH', 'sample/comments.csv')\n",
    "else:  # JSON or RAW_JSON modes\n",
    "    local_data_path = os.getenv('LOCAL_DATA_PATH', 'sample/reddit.json')\n",
    "\n",
    "if not validate_mode_and_path(mode, local_data_path):\n",
    "    exit(1)\n",
    "\n",
    "data = None\n",
    "comments = None\n",
    "if mode == 'RAW_JSON':\n",
    "    json_loader = JsonLoader()\n",
    "    data = json_loader.load_raw(local_data_path)\n",
    "    comments: List[Comment] = RawCommentParser().parse_comments(data)\n",
    "elif mode == 'JSON':\n",
    "    json_loader = RedditJsonLoader()\n",
    "    comments: List[Comment] = json_loader.load_comments(local_data_path)\n",
    "elif mode == 'URL':\n",
    "    example_url = 'https://www.reddit.com/r/diabetes_t1/comments/1h9k636/type_1s_who_have_taken_ozempic_what_was_your/'\n",
    "    data = RedditCommentLoader().get_comments(example_url)\n",
    "    comments: List[Comment] = RawCommentParser().parse_comments(data)\n",
    "elif mode == 'CSV':\n",
    "    print('CSV mode not implemented')\n",
    "    exit(1)\n",
    "else:\n",
    "    print('Invalid mode')\n",
    "    exit(1)\n",
    "\n",
    "print_comments(comments[:1])"
   ]
  },
  {
   "cell_type": "code",
   "execution_count": 26,
   "metadata": {},
   "outputs": [
    {
     "name": "stdout",
     "output_type": "stream",
     "text": [
      "<class 'pandas.core.frame.DataFrame'>\n",
      "RangeIndex: 107 entries, 0 to 106\n",
      "Data columns (total 11 columns):\n",
      " #   Column          Non-Null Count  Dtype  \n",
      "---  ------          --------------  -----  \n",
      " 0   id              107 non-null    object \n",
      " 1   author          107 non-null    object \n",
      " 2   body            107 non-null    object \n",
      " 3   created_utc     107 non-null    float64\n",
      " 4   score           107 non-null    int64  \n",
      " 5   parent_id       107 non-null    object \n",
      " 6   depth           107 non-null    int64  \n",
      " 7   ups             107 non-null    int64  \n",
      " 8   downs           107 non-null    int64  \n",
      " 9   num_reports     0 non-null      object \n",
      " 10  report_reasons  0 non-null      object \n",
      "dtypes: float64(1), int64(4), object(6)\n",
      "memory usage: 9.3+ KB\n"
     ]
    }
   ],
   "source": [
    "serializer = RedditCommentSerializer()\n",
    "df = serializer.to_dataframe(comments)\n",
    "\n",
    "df.info()\n"
   ]
  },
  {
   "cell_type": "code",
   "execution_count": 27,
   "metadata": {},
   "outputs": [],
   "source": [
    "timestamp = datetime.datetime.now().strftime(\"%Y-%m-%d_%H_%M_%S\")\n",
    "if not os.path.exists(output_path):\n",
    "    os.makedirs(output_path)"
   ]
  },
  {
   "cell_type": "code",
   "execution_count": 28,
   "metadata": {},
   "outputs": [
    {
     "name": "stdout",
     "output_type": "stream",
     "text": [
      "Comments saved to output/2025-03-16_23_51_37_comments.csv\n"
     ]
    }
   ],
   "source": [
    "csv_filename = os.path.join(output_path, f'{timestamp}_comments.csv')\n",
    "serializer.write_to_csv(comments, csv_filename)\n",
    "\n",
    "print(f\"Comments saved to {csv_filename}\")"
   ]
  },
  {
   "cell_type": "code",
   "execution_count": 29,
   "metadata": {},
   "outputs": [
    {
     "name": "stdout",
     "output_type": "stream",
     "text": [
      "Comments saved to output/2025-03-16_23_51_37_comments.json\n"
     ]
    }
   ],
   "source": [
    "json_filename = os.path.join(output_path, f'{timestamp}_comments.json')\n",
    "serializer.write_to_json(comments, json_filename)\n",
    "\n",
    "print(f\"Comments saved to {json_filename}\")"
   ]
  },
  {
   "cell_type": "code",
   "execution_count": 30,
   "metadata": {},
   "outputs": [
    {
     "data": {
      "text/html": [
       "<div>\n",
       "<style scoped>\n",
       "    .dataframe tbody tr th:only-of-type {\n",
       "        vertical-align: middle;\n",
       "    }\n",
       "\n",
       "    .dataframe tbody tr th {\n",
       "        vertical-align: top;\n",
       "    }\n",
       "\n",
       "    .dataframe thead th {\n",
       "        text-align: right;\n",
       "    }\n",
       "</style>\n",
       "<table border=\"1\" class=\"dataframe\">\n",
       "  <thead>\n",
       "    <tr style=\"text-align: right;\">\n",
       "      <th></th>\n",
       "      <th>id</th>\n",
       "      <th>author</th>\n",
       "      <th>body</th>\n",
       "      <th>created_utc</th>\n",
       "      <th>score</th>\n",
       "      <th>parent_id</th>\n",
       "      <th>depth</th>\n",
       "      <th>ups</th>\n",
       "      <th>downs</th>\n",
       "      <th>num_reports</th>\n",
       "      <th>report_reasons</th>\n",
       "    </tr>\n",
       "  </thead>\n",
       "  <tbody>\n",
       "    <tr>\n",
       "      <th>0</th>\n",
       "      <td>m11jg92</td>\n",
       "      <td>HoboMinion</td>\n",
       "      <td>T1 for close to 40 years. I’m on a Tandem TSli...</td>\n",
       "      <td>1.733672e+09</td>\n",
       "      <td>76</td>\n",
       "      <td>t3_1h9k636</td>\n",
       "      <td>0</td>\n",
       "      <td>76</td>\n",
       "      <td>0</td>\n",
       "      <td>NaN</td>\n",
       "      <td>NaN</td>\n",
       "    </tr>\n",
       "    <tr>\n",
       "      <th>1</th>\n",
       "      <td>m11wwzr</td>\n",
       "      <td>[deleted]</td>\n",
       "      <td>Very similar results for me, too</td>\n",
       "      <td>1.733677e+09</td>\n",
       "      <td>9</td>\n",
       "      <td>t1_m11jg92</td>\n",
       "      <td>1</td>\n",
       "      <td>9</td>\n",
       "      <td>0</td>\n",
       "      <td>NaN</td>\n",
       "      <td>NaN</td>\n",
       "    </tr>\n",
       "    <tr>\n",
       "      <th>2</th>\n",
       "      <td>m125nhw</td>\n",
       "      <td>BjergerPresident</td>\n",
       "      <td>My experience is almost identical to this as w...</td>\n",
       "      <td>1.733679e+09</td>\n",
       "      <td>6</td>\n",
       "      <td>t1_m11jg92</td>\n",
       "      <td>1</td>\n",
       "      <td>6</td>\n",
       "      <td>0</td>\n",
       "      <td>NaN</td>\n",
       "      <td>NaN</td>\n",
       "    </tr>\n",
       "    <tr>\n",
       "      <th>3</th>\n",
       "      <td>m139z5u</td>\n",
       "      <td>MaggieNFredders</td>\n",
       "      <td>Pretty much my results except my A1c is lower ...</td>\n",
       "      <td>1.733692e+09</td>\n",
       "      <td>3</td>\n",
       "      <td>t1_m11jg92</td>\n",
       "      <td>1</td>\n",
       "      <td>3</td>\n",
       "      <td>0</td>\n",
       "      <td>NaN</td>\n",
       "      <td>NaN</td>\n",
       "    </tr>\n",
       "    <tr>\n",
       "      <th>4</th>\n",
       "      <td>m17vfp7</td>\n",
       "      <td>OranjellosBroLemonj</td>\n",
       "      <td>T1 40+ years. Went from TTD around 45-55 units...</td>\n",
       "      <td>1.733764e+09</td>\n",
       "      <td>3</td>\n",
       "      <td>t1_m11jg92</td>\n",
       "      <td>1</td>\n",
       "      <td>3</td>\n",
       "      <td>0</td>\n",
       "      <td>NaN</td>\n",
       "      <td>NaN</td>\n",
       "    </tr>\n",
       "  </tbody>\n",
       "</table>\n",
       "</div>"
      ],
      "text/plain": [
       "        id               author  \\\n",
       "0  m11jg92           HoboMinion   \n",
       "1  m11wwzr            [deleted]   \n",
       "2  m125nhw     BjergerPresident   \n",
       "3  m139z5u      MaggieNFredders   \n",
       "4  m17vfp7  OranjellosBroLemonj   \n",
       "\n",
       "                                                body   created_utc  score  \\\n",
       "0  T1 for close to 40 years. I’m on a Tandem TSli...  1.733672e+09     76   \n",
       "1                   Very similar results for me, too  1.733677e+09      9   \n",
       "2  My experience is almost identical to this as w...  1.733679e+09      6   \n",
       "3  Pretty much my results except my A1c is lower ...  1.733692e+09      3   \n",
       "4  T1 40+ years. Went from TTD around 45-55 units...  1.733764e+09      3   \n",
       "\n",
       "    parent_id  depth  ups  downs  num_reports  report_reasons  \n",
       "0  t3_1h9k636      0   76      0          NaN             NaN  \n",
       "1  t1_m11jg92      1    9      0          NaN             NaN  \n",
       "2  t1_m11jg92      1    6      0          NaN             NaN  \n",
       "3  t1_m11jg92      1    3      0          NaN             NaN  \n",
       "4  t1_m11jg92      1    3      0          NaN             NaN  "
      ]
     },
     "execution_count": 30,
     "metadata": {},
     "output_type": "execute_result"
    }
   ],
   "source": [
    "df = pd.read_csv(csv_filename)\n",
    "df.head()"
   ]
  }
 ],
 "metadata": {
  "kernelspec": {
   "display_name": "data_science",
   "language": "python",
   "name": "python3"
  },
  "language_info": {
   "codemirror_mode": {
    "name": "ipython",
    "version": 3
   },
   "file_extension": ".py",
   "mimetype": "text/x-python",
   "name": "python",
   "nbconvert_exporter": "python",
   "pygments_lexer": "ipython3",
   "version": "3.11.9"
  }
 },
 "nbformat": 4,
 "nbformat_minor": 2
}
