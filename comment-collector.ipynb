{
 "cells": [
  {
   "cell_type": "code",
   "execution_count": null,
   "metadata": {},
   "outputs": [],
   "source": [
    "\n",
    "import datetime\n",
    "import os\n",
    "from typing import List\n",
    "import time\n",
    "from scraper.Comment import Comment\n",
    "from scraper.RedditCommentLoader import RedditCommentLoader\n",
    "from scraper.RawCommentParser import RawCommentParser\n",
    "from scraper.RedditCommentSerializer import RedditCommentSerializer"
   ]
  },
  {
   "cell_type": "code",
   "execution_count": null,
   "metadata": {},
   "outputs": [],
   "source": [
    "output_path = os.getenv('OUTPUT_PATH', 'Dataset/output')\n",
    "if not os.path.exists(output_path):\n",
    "    os.makedirs(output_path)"
   ]
  },
  {
   "cell_type": "code",
   "execution_count": null,
   "metadata": {},
   "outputs": [],
   "source": [
    "subreddit_posts = []\n",
    "with open('subreddit_posts.txt', 'r') as f:\n",
    "    subreddit_posts = f.read().splitlines()"
   ]
  },
  {
   "cell_type": "code",
   "execution_count": null,
   "metadata": {},
   "outputs": [],
   "source": [
    "for subreddit_link in subreddit_posts:\n",
    "    # Load the data\n",
    "    data = RedditCommentLoader().get_comments(subreddit_link)\n",
    "    comments: List[Comment] = RawCommentParser().parse_comments(data)\n",
    "\n",
    "    post_title = subreddit_link.split('/')[-2]\n",
    "\n",
    "    timestamp = datetime.datetime.now().strftime(\"%Y-%m-%d_%H_%M_%S\")\n",
    "    json_filename = os.path.join(output_path, f'{timestamp}_{post_title}.json')\n",
    "\n",
    "    # Serialize the data\n",
    "    serializer =  RedditCommentSerializer()\n",
    "    serializer.write_to_json(comments, json_filename)\n",
    "\n",
    "    # Sleep for two seconds to avoid rate limiting\n",
    "    print(f'Sleeping for two seconds...')\n",
    "    time.sleep(2)"
   ]
  }
 ],
 "metadata": {
  "kernelspec": {
   "display_name": "data_science",
   "language": "python",
   "name": "python3"
  },
  "language_info": {
   "codemirror_mode": {
    "name": "ipython",
    "version": 3
   },
   "file_extension": ".py",
   "mimetype": "text/x-python",
   "name": "python",
   "nbconvert_exporter": "python",
   "pygments_lexer": "ipython3",
   "version": "3.11.9"
  }
 },
 "nbformat": 4,
 "nbformat_minor": 2
}
