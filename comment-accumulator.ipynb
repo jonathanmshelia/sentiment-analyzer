{
 "cells": [
  {
   "cell_type": "code",
   "execution_count": 37,
   "metadata": {},
   "outputs": [],
   "source": [
    "import os\n",
    "import pandas as pd\n",
    "from typing import List\n",
    "from scraper.Comment import Comment\n",
    "from scraper.RedditJsonLoader import RedditJsonLoader\n",
    "from scraper.RedditCommentSerializer import RedditCommentSerializer"
   ]
  },
  {
   "cell_type": "code",
   "execution_count": 38,
   "metadata": {},
   "outputs": [],
   "source": [
    "input_path = os.getenv('INPUT_PATH', 'output')\n",
    "output_path = os.getenv('OUTPUT_PATH', 'comments')\n",
    "if not os.path.exists(output_path):\n",
    "    os.makedirs(output_path)"
   ]
  },
  {
   "cell_type": "code",
   "execution_count": 39,
   "metadata": {},
   "outputs": [],
   "source": [
    "# Open the output directory and read all the json files\n",
    "json_files = os.listdir(input_path)\n",
    "csv_path = f'{output_path}/comments.csv'\n",
    "\n",
    "# Remove the csv file if it already exists\n",
    "if os.path.exists(csv_path):\n",
    "    os.remove(csv_path)"
   ]
  },
  {
   "cell_type": "code",
   "execution_count": 40,
   "metadata": {},
   "outputs": [],
   "source": [
    "# Flag to track if it's the first file (for header)\n",
    "first_file = True\n",
    "\n",
    "for json_file in json_files:\n",
    "    qualified_json_file_name = f'{input_path}/{json_file}'\n",
    "    comments: List[Comment] = RedditJsonLoader().load_comments(path=qualified_json_file_name)\n",
    "    serializer = RedditCommentSerializer()\n",
    "    serializer.append_to_csv(comments=comments, path=csv_path, header=first_file)\n",
    "    first_file = False"
   ]
  },
  {
   "cell_type": "code",
   "execution_count": 41,
   "metadata": {},
   "outputs": [
    {
     "name": "stdout",
     "output_type": "stream",
     "text": [
      "<class 'pandas.core.frame.DataFrame'>\n",
      "RangeIndex: 4487 entries, 0 to 4486\n",
      "Data columns (total 11 columns):\n",
      " #   Column          Non-Null Count  Dtype  \n",
      "---  ------          --------------  -----  \n",
      " 0   id              4487 non-null   object \n",
      " 1   author          4487 non-null   object \n",
      " 2   body            4487 non-null   object \n",
      " 3   created_utc     4487 non-null   float64\n",
      " 4   score           4487 non-null   int64  \n",
      " 5   parent_id       4487 non-null   object \n",
      " 6   depth           4487 non-null   int64  \n",
      " 7   ups             4487 non-null   int64  \n",
      " 8   downs           4487 non-null   int64  \n",
      " 9   num_reports     0 non-null      float64\n",
      " 10  report_reasons  0 non-null      float64\n",
      "dtypes: float64(3), int64(4), object(4)\n",
      "memory usage: 385.7+ KB\n"
     ]
    }
   ],
   "source": [
    "df = pd.read_csv(csv_path)\n",
    "df.info()"
   ]
  },
  {
   "cell_type": "code",
   "execution_count": 42,
   "metadata": {},
   "outputs": [
    {
     "name": "stdout",
     "output_type": "stream",
     "text": [
      "Dataframe shape: (4487, 9)\n",
      "Dataframe shape: (4401, 9)\n"
     ]
    }
   ],
   "source": [
    "# Sort by score \n",
    "df = df.sort_values(by='score', ascending=False)\n",
    "# Remove the num_reports and report_reasons columns\n",
    "df = df.drop(['num_reports', 'report_reasons'], axis=1)\n",
    "print(f'Dataframe shape: {df.shape}')\n",
    "\n",
    "# Remove rows with body as [deleted] or [removed]\n",
    "df = df[df.body != '[deleted]']\n",
    "df = df[df.body != '[removed]']\n",
    "print(f'Dataframe shape: {df.shape}')"
   ]
  },
  {
   "cell_type": "code",
   "execution_count": 43,
   "metadata": {},
   "outputs": [],
   "source": [
    "df.head(10)\n",
    "csv_path = f'{output_path}/cleaned_comments.csv'\n",
    "df.to_csv(csv_path, index=False)"
   ]
  }
 ],
 "metadata": {
  "kernelspec": {
   "display_name": "data_science",
   "language": "python",
   "name": "python3"
  },
  "language_info": {
   "codemirror_mode": {
    "name": "ipython",
    "version": 3
   },
   "file_extension": ".py",
   "mimetype": "text/x-python",
   "name": "python",
   "nbconvert_exporter": "python",
   "pygments_lexer": "ipython3",
   "version": "3.11.9"
  }
 },
 "nbformat": 4,
 "nbformat_minor": 2
}
