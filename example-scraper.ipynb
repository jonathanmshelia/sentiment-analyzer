{
 "cells": [
  {
   "cell_type": "code",
   "execution_count": null,
   "metadata": {},
   "outputs": [],
   "source": [
    "\n",
    "import datetime\n",
    "import os\n",
    "import pandas as pd\n",
    "from typing import List\n",
    "from scraper.Comment import Comment\n",
    "from scraper.JsonLoader import JsonLoader\n",
    "from scraper.RedditJsonLoader import RedditJsonLoader\n",
    "from scraper.RawCommentParser import RawCommentParser\n",
    "from scraper.RedditCommentLoader import RedditCommentLoader\n",
    "from scraper.RedditCommentSerializer import RedditCommentSerializer"
   ]
  },
  {
   "cell_type": "code",
   "execution_count": 23,
   "metadata": {},
   "outputs": [],
   "source": [
    "def print_comments(comments, level=0):\n",
    "    for comment in comments:\n",
    "        print('  ' * level + comment.body)\n",
    "        print_comments(comment.children, level + 1)"
   ]
  },
  {
   "cell_type": "code",
   "execution_count": 24,
   "metadata": {},
   "outputs": [],
   "source": [
    "def validate_mode_and_path(mode, local_data_path):\n",
    "    \"\"\"\n",
    "    Validate the mode and local data path to ensure they are compatible.\n",
    "    \n",
    "    Args:\n",
    "        mode (str): The mode to use ('RAW_JSON', 'JSON', 'URL', 'CSV')\n",
    "        local_data_path (str): Path to the local data file\n",
    "        \n",
    "    Returns:\n",
    "        bool: True if valid, False otherwise\n",
    "    \"\"\"\n",
    "    # Define supported modes and file extensions\n",
    "    supported_modes = ['RAW_JSON', 'JSON', 'URL', 'CSV']\n",
    "    file_extensions = {\n",
    "        'json': ['JSON', 'RAW_JSON'],\n",
    "        'csv': ['CSV']\n",
    "    }\n",
    "\n",
    "    # Validate the mode\n",
    "    if mode not in supported_modes:\n",
    "        print(f'Invalid mode: Select one of {\", \".join(supported_modes)}')\n",
    "        return False\n",
    "\n",
    "    # For non-URL modes, validate that the file exists and has matching extension\n",
    "    if mode != 'URL':\n",
    "        if not os.path.exists(local_data_path):\n",
    "            print('Local data file not found. LOCAL_DATA_PATH must be set for any mode other than URL')\n",
    "            return False\n",
    "        \n",
    "        # Check if file extension matches the mode\n",
    "        file_ext = os.path.splitext(local_data_path)[1].lower().replace('.', '')\n",
    "        valid_modes = file_extensions.get(file_ext, [])\n",
    "        \n",
    "        if mode not in valid_modes:\n",
    "            print(f'Mode {mode} is not compatible with file extension .{file_ext}')\n",
    "            print(f'For .{file_ext} files, use one of: {\", \".join(valid_modes)}')\n",
    "            return False\n",
    "            \n",
    "    return True"
   ]
  },
  {
   "cell_type": "code",
   "execution_count": null,
   "metadata": {},
   "outputs": [],
   "source": [
    "# Get mode and local data path\n",
    "mode = os.getenv('MODE', 'URL')\n",
    "output_path = os.getenv('BASE_PATH', 'Dataset/output')\n",
    "local_data_path = None\n",
    "if mode == 'URL':\n",
    "    local_data_path = None  # Not needed for URL mode\n",
    "elif mode == 'CSV':\n",
    "    local_data_path = os.getenv('LOCAL_DATA_PATH', 'Dataset/sample/comments.csv')\n",
    "else:  # JSON or RAW_JSON modes\n",
    "    local_data_path = os.getenv('LOCAL_DATA_PATH', 'Dataset/sample/reddit.json')\n",
    "\n",
    "if not validate_mode_and_path(mode, local_data_path):\n",
    "    exit(1)\n",
    "\n",
    "data = None\n",
    "comments = None\n",
    "if mode == 'RAW_JSON':\n",
    "    json_loader = JsonLoader()\n",
    "    data = json_loader.load_raw(local_data_path)\n",
    "    comments: List[Comment] = RawCommentParser().parse_comments(data)\n",
    "elif mode == 'JSON':\n",
    "    json_loader = RedditJsonLoader()\n",
    "    comments: List[Comment] = json_loader.load_comments(local_data_path)\n",
    "elif mode == 'URL':\n",
    "    example_url =\\\n",
    "        'https://www.reddit.com/r/diabetes_t1/comments/1h9k636/type_1s_who_have_taken_ozempic_what_was_your/'\n",
    "    data = RedditCommentLoader().get_comments(example_url)\n",
    "    comments: List[Comment] = RawCommentParser().parse_comments(data)\n",
    "elif mode == 'CSV':\n",
    "    print('CSV mode not implemented')\n",
    "    exit(1)\n",
    "else:\n",
    "    print('Invalid mode')\n",
    "    exit(1)\n",
    "\n",
    "print_comments(comments[:1])"
   ]
  },
  {
   "cell_type": "code",
   "execution_count": null,
   "metadata": {},
   "outputs": [],
   "source": [
    "serializer = RedditCommentSerializer()\n",
    "df = serializer.to_dataframe(comments)\n",
    "\n",
    "df.info()"
   ]
  },
  {
   "cell_type": "code",
   "execution_count": 27,
   "metadata": {},
   "outputs": [],
   "source": [
    "timestamp = datetime.datetime.now().strftime(\"%Y-%m-%d_%H_%M_%S\")\n",
    "if not os.path.exists(output_path):\n",
    "    os.makedirs(output_path)"
   ]
  },
  {
   "cell_type": "code",
   "execution_count": null,
   "metadata": {},
   "outputs": [],
   "source": [
    "csv_filename = os.path.join(output_path, f'{timestamp}_comments.csv')\n",
    "serializer.write_to_csv(comments, csv_filename)\n",
    "\n",
    "print(f\"Comments saved to {csv_filename}\")"
   ]
  },
  {
   "cell_type": "code",
   "execution_count": null,
   "metadata": {},
   "outputs": [],
   "source": [
    "json_filename = os.path.join(output_path, f'{timestamp}_comments.json')\n",
    "serializer.write_to_json(comments, json_filename)\n",
    "\n",
    "print(f\"Comments saved to {json_filename}\")"
   ]
  },
  {
   "cell_type": "code",
   "execution_count": null,
   "metadata": {},
   "outputs": [],
   "source": [
    "df = pd.read_csv(csv_filename)\n",
    "df.head()"
   ]
  }
 ],
 "metadata": {
  "kernelspec": {
   "display_name": "data_science",
   "language": "python",
   "name": "python3"
  },
  "language_info": {
   "codemirror_mode": {
    "name": "ipython",
    "version": 3
   },
   "file_extension": ".py",
   "mimetype": "text/x-python",
   "name": "python",
   "nbconvert_exporter": "python",
   "pygments_lexer": "ipython3",
   "version": "3.11.9"
  }
 },
 "nbformat": 4,
 "nbformat_minor": 2
}
